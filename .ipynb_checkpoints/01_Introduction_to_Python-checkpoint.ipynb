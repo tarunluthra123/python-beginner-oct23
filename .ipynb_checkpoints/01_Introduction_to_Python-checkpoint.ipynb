{
 "cells": [
  {
   "cell_type": "code",
   "execution_count": 3,
   "metadata": {
    "colab": {
     "base_uri": "https://localhost:8080/"
    },
    "id": "vttE3Q3JyivS",
    "outputId": "4b8a7501-994c-4dad-add7-815fad3edcfa"
   },
   "outputs": [
    {
     "name": "stdout",
     "output_type": "stream",
     "text": [
      "Hello world\n",
      "Hi How are you ?\n",
      "Welcome to Beginner python course\n",
      "Good morning\n"
     ]
    }
   ],
   "source": [
    "print(\"Hello world\")\n",
    "print(\"Hi How are you ?\")\n",
    "print(\"Welcome to Beginner python course\")\n",
    "print(\"Good morning\")"
   ]
  },
  {
   "cell_type": "code",
   "execution_count": 4,
   "metadata": {
    "colab": {
     "base_uri": "https://localhost:8080/"
    },
    "id": "GvPk3UOszTDu",
    "outputId": "02908024-0f4b-4ce2-e4af-a0cbbedf0324"
   },
   "outputs": [
    {
     "name": "stdout",
     "output_type": "stream",
     "text": [
      "10\n"
     ]
    }
   ],
   "source": [
    "print(10)"
   ]
  },
  {
   "cell_type": "code",
   "execution_count": 5,
   "metadata": {
    "colab": {
     "base_uri": "https://localhost:8080/"
    },
    "id": "RIEbGLonzd08",
    "outputId": "fa7ae6e8-92c8-4456-fd77-8437ca002a7b"
   },
   "outputs": [
    {
     "name": "stdout",
     "output_type": "stream",
     "text": [
      "8.3\n"
     ]
    }
   ],
   "source": [
    "print(2.4 + 5.9)"
   ]
  },
  {
   "cell_type": "code",
   "execution_count": null,
   "metadata": {
    "id": "3jLhoTnEzgCs"
   },
   "outputs": [],
   "source": []
  },
  {
   "cell_type": "code",
   "execution_count": 6,
   "metadata": {
    "colab": {
     "base_uri": "https://localhost:8080/"
    },
    "id": "t-_HeTqYzsAv",
    "outputId": "96d2d220-a996-43af-930e-852e95cfb47c"
   },
   "outputs": [
    {
     "name": "stdout",
     "output_type": "stream",
     "text": [
      "50\n"
     ]
    }
   ],
   "source": [
    "print(20 + 30)"
   ]
  },
  {
   "cell_type": "code",
   "execution_count": 8,
   "metadata": {
    "colab": {
     "base_uri": "https://localhost:8080/"
    },
    "id": "q3Ayl8Fhz0u1",
    "outputId": "050150a4-2533-4eae-fa95-acee492c6eca"
   },
   "outputs": [
    {
     "name": "stdout",
     "output_type": "stream",
     "text": [
      "398457982374598136458913549861980654815359824985575874709264859383\n"
     ]
    }
   ],
   "source": [
    "print(8943751089374589364895619845918 + 398457982374598136458913549861980645871608735610986509813645013465)"
   ]
  },
  {
   "cell_type": "code",
   "execution_count": 9,
   "metadata": {
    "colab": {
     "base_uri": "https://localhost:8080/"
    },
    "id": "oKVyFUE7z4ah",
    "outputId": "9d08ff94-4fea-45ab-d8ae-f9aa1fef584b"
   },
   "outputs": [
    {
     "name": "stdout",
     "output_type": "stream",
     "text": [
      "16\n"
     ]
    }
   ],
   "source": [
    "print(8 * 2)"
   ]
  },
  {
   "cell_type": "code",
   "execution_count": 10,
   "metadata": {
    "colab": {
     "base_uri": "https://localhost:8080/"
    },
    "id": "4SIDfhNk0G0K",
    "outputId": "68d7fd81-4850-468e-e4c0-a7e0dd88aa55"
   },
   "outputs": [
    {
     "name": "stdout",
     "output_type": "stream",
     "text": [
      "6\n"
     ]
    }
   ],
   "source": [
    "print(10 - 4)"
   ]
  },
  {
   "cell_type": "code",
   "execution_count": 11,
   "metadata": {
    "colab": {
     "base_uri": "https://localhost:8080/"
    },
    "id": "zy5C-kji0IFv",
    "outputId": "fbf3a6be-71cc-4b9b-af4c-b751cbfc1df8"
   },
   "outputs": [
    {
     "name": "stdout",
     "output_type": "stream",
     "text": [
      "5.0\n"
     ]
    }
   ],
   "source": [
    "print(10 / 2)"
   ]
  },
  {
   "cell_type": "code",
   "execution_count": 12,
   "metadata": {
    "colab": {
     "base_uri": "https://localhost:8080/"
    },
    "id": "fniIrmwg0Jpq",
    "outputId": "6f4f34b0-493b-43b4-a1fa-f4ca45e4adf5"
   },
   "outputs": [
    {
     "name": "stdout",
     "output_type": "stream",
     "text": [
      "3.3333333333333335\n"
     ]
    }
   ],
   "source": [
    "print(10 / 3)"
   ]
  },
  {
   "cell_type": "code",
   "execution_count": 13,
   "metadata": {
    "colab": {
     "base_uri": "https://localhost:8080/"
    },
    "id": "kGJLeH_q0Kpo",
    "outputId": "713fd91a-6257-4ef7-ad94-0faa4367a4ed"
   },
   "outputs": [
    {
     "name": "stdout",
     "output_type": "stream",
     "text": [
      "Hello\n"
     ]
    }
   ],
   "source": [
    "print(\"Hello\")"
   ]
  },
  {
   "cell_type": "code",
   "execution_count": 14,
   "metadata": {
    "colab": {
     "base_uri": "https://localhost:8080/"
    },
    "id": "bQ_H7By50Qrm",
    "outputId": "8470f0c4-ff12-4108-8472-e2321ed3bbaf"
   },
   "outputs": [
    {
     "name": "stdout",
     "output_type": "stream",
     "text": [
      "Hello\n"
     ]
    }
   ],
   "source": [
    "print('Hello')"
   ]
  },
  {
   "cell_type": "code",
   "execution_count": 15,
   "metadata": {
    "colab": {
     "base_uri": "https://localhost:8080/"
    },
    "id": "8BenFXyB0jO6",
    "outputId": "9a85040b-14c9-4f6a-e35f-85e4ec8d7b5b"
   },
   "outputs": [
    {
     "name": "stdout",
     "output_type": "stream",
     "text": [
      "Hello 123 &^&@#))(@$) \n"
     ]
    }
   ],
   "source": [
    "print('Hello 123 &^&@#))(@$) ')"
   ]
  },
  {
   "cell_type": "code",
   "execution_count": null,
   "metadata": {
    "id": "L3umqkx00wOr"
   },
   "outputs": [],
   "source": []
  },
  {
   "cell_type": "code",
   "execution_count": 16,
   "metadata": {
    "colab": {
     "base_uri": "https://localhost:8080/"
    },
    "id": "X49m-ANo04et",
    "outputId": "e229d02a-8f51-4d24-e9b9-506c13361fdc"
   },
   "outputs": [
    {
     "name": "stdout",
     "output_type": "stream",
     "text": [
      "10+10\n"
     ]
    }
   ],
   "source": [
    "print(\"10+10\")"
   ]
  },
  {
   "cell_type": "code",
   "execution_count": 17,
   "metadata": {
    "colab": {
     "base_uri": "https://localhost:8080/"
    },
    "id": "wy8BGNyB1EiD",
    "outputId": "bf4c76e4-89d1-457f-9908-472df0c4f237"
   },
   "outputs": [
    {
     "name": "stdout",
     "output_type": "stream",
     "text": [
      "20 + 30\n"
     ]
    }
   ],
   "source": [
    "print('20 + 30')"
   ]
  },
  {
   "cell_type": "code",
   "execution_count": 18,
   "metadata": {
    "colab": {
     "base_uri": "https://localhost:8080/"
    },
    "id": "PrmrhIy21NJD",
    "outputId": "dcabaf1a-696f-45af-f270-ae2ffae7a888"
   },
   "outputs": [
    {
     "name": "stdout",
     "output_type": "stream",
     "text": [
      "50\n"
     ]
    }
   ],
   "source": [
    "print(20 + 30)"
   ]
  },
  {
   "cell_type": "code",
   "execution_count": null,
   "metadata": {
    "id": "sU0hA0d-1OhK"
   },
   "outputs": [],
   "source": []
  },
  {
   "cell_type": "code",
   "execution_count": 25,
   "metadata": {
    "colab": {
     "base_uri": "https://localhost:8080/",
     "height": 199
    },
    "id": "3RdN-i8B1YFu",
    "outputId": "c16f077c-9d21-484f-bdfd-5ae11c7ae9d0"
   },
   "outputs": [
    {
     "ename": "NameError",
     "evalue": "ignored",
     "output_type": "error",
     "traceback": [
      "\u001b[0;31m---------------------------------------------------------------------------\u001b[0m",
      "\u001b[0;31mNameError\u001b[0m                                 Traceback (most recent call last)",
      "\u001b[0;32m<ipython-input-25-277a0924bc26>\u001b[0m in \u001b[0;36m<cell line: 1>\u001b[0;34m()\u001b[0m\n\u001b[0;32m----> 1\u001b[0;31m \u001b[0mPrint\u001b[0m\u001b[0;34m(\u001b[0m\u001b[0;34m\"5+10\"\u001b[0m\u001b[0;34m)\u001b[0m\u001b[0;34m\u001b[0m\u001b[0;34m\u001b[0m\u001b[0m\n\u001b[0m\u001b[1;32m      2\u001b[0m \u001b[0;31m# Print with capital P does not work\u001b[0m\u001b[0;34m\u001b[0m\u001b[0;34m\u001b[0m\u001b[0m\n",
      "\u001b[0;31mNameError\u001b[0m: name 'Print' is not defined"
     ]
    }
   ],
   "source": [
    "Print(\"5+10\")\n",
    "# Print with capital P does not work"
   ]
  },
  {
   "cell_type": "code",
   "execution_count": 20,
   "metadata": {
    "colab": {
     "base_uri": "https://localhost:8080/"
    },
    "id": "5Y9k02Ko1hyl",
    "outputId": "35873ad5-ca38-4dea-a078-1cfd490fa36f"
   },
   "outputs": [
    {
     "name": "stdout",
     "output_type": "stream",
     "text": [
      "5+10\n"
     ]
    }
   ],
   "source": [
    "print(\"5+10\")"
   ]
  },
  {
   "cell_type": "code",
   "execution_count": 21,
   "metadata": {
    "colab": {
     "base_uri": "https://localhost:8080/"
    },
    "id": "T01COiVC1pKW",
    "outputId": "9dd589a4-4fef-48ee-ee69-e838d964a60a"
   },
   "outputs": [
    {
     "name": "stdout",
     "output_type": "stream",
     "text": [
      "what's up ?\n"
     ]
    }
   ],
   "source": [
    "print(\"what's up ?\")"
   ]
  },
  {
   "cell_type": "code",
   "execution_count": 22,
   "metadata": {
    "colab": {
     "base_uri": "https://localhost:8080/"
    },
    "id": "T-bSc2Yj18z7",
    "outputId": "141ff7a2-5bee-4c55-c436-bafdc0a3c869"
   },
   "outputs": [
    {
     "name": "stdout",
     "output_type": "stream",
     "text": [
      "what's up ?\n"
     ]
    }
   ],
   "source": [
    "# Escape character\n",
    "print('what\\'s up ?')"
   ]
  },
  {
   "cell_type": "code",
   "execution_count": null,
   "metadata": {
    "id": "vdpQ4Dyj2EAb"
   },
   "outputs": [],
   "source": [
    "print('what's up ?')"
   ]
  },
  {
   "cell_type": "code",
   "execution_count": 23,
   "metadata": {
    "colab": {
     "base_uri": "https://localhost:8080/"
    },
    "id": "7CZFoO-A2cRY",
    "outputId": "5a238b64-4029-4c2f-fd18-c774e2d78a1b"
   },
   "outputs": [
    {
     "name": "stdout",
     "output_type": "stream",
     "text": [
      "some random text \\\n"
     ]
    }
   ],
   "source": [
    "# Use double \\ to print \\\n",
    "print('some random text \\\\')"
   ]
  },
  {
   "cell_type": "code",
   "execution_count": null,
   "metadata": {
    "id": "VMq7cSJ92hL6"
   },
   "outputs": [],
   "source": []
  },
  {
   "cell_type": "code",
   "execution_count": 27,
   "metadata": {
    "id": "kFX1fXOx2rfk"
   },
   "outputs": [],
   "source": [
    "# Comments\n",
    "# Statements that you can write in your code that are simply ignored by Python Interpreter\n",
    "# Comments start with a #\n",
    "# If you want to comment or uncomment a statement, press\n",
    "# Cmd + / (Mac)\n",
    "# Ctrl + / (Windows / Linux)"
   ]
  },
  {
   "cell_type": "code",
   "execution_count": null,
   "metadata": {
    "id": "fWR_C09O2t1b"
   },
   "outputs": [],
   "source": [
    "print(\"Hello world\")"
   ]
  },
  {
   "cell_type": "code",
   "execution_count": null,
   "metadata": {
    "id": "WNPA2DUn4DBc"
   },
   "outputs": [],
   "source": []
  },
  {
   "cell_type": "code",
   "execution_count": null,
   "metadata": {
    "id": "AYkFU9xv4DO7"
   },
   "outputs": [],
   "source": [
    " print(\"hello \"how are you\")"
   ]
  },
  {
   "cell_type": "code",
   "execution_count": 28,
   "metadata": {
    "colab": {
     "base_uri": "https://localhost:8080/"
    },
    "id": "kpv0uhVI4EyW",
    "outputId": "6291ae69-639a-49c6-8090-4862f6423bfd"
   },
   "outputs": [
    {
     "name": "stdout",
     "output_type": "stream",
     "text": [
      "hello \"how are you\n"
     ]
    }
   ],
   "source": [
    " print('hello \"how are you')"
   ]
  },
  {
   "cell_type": "code",
   "execution_count": 30,
   "metadata": {
    "colab": {
     "base_uri": "https://localhost:8080/"
    },
    "id": "wmMPXNll4GqE",
    "outputId": "85571e89-9d96-48f9-ff54-91afafa075f2"
   },
   "outputs": [
    {
     "name": "stdout",
     "output_type": "stream",
     "text": [
      "\"hello \"how are you\"\n"
     ]
    }
   ],
   "source": [
    " print('\"hello \\\"how are you\"')"
   ]
  },
  {
   "cell_type": "code",
   "execution_count": null,
   "metadata": {
    "id": "qQlxeV8q4ItI"
   },
   "outputs": [],
   "source": []
  },
  {
   "cell_type": "code",
   "execution_count": null,
   "metadata": {
    "id": "ar5SE5fi4iGc"
   },
   "outputs": [],
   "source": []
  },
  {
   "cell_type": "markdown",
   "metadata": {
    "id": "bMbMb7f14i2d"
   },
   "source": [
    "# Bonus Reading Material\n",
    "\n",
    "- An Introduction to Python Programming - https://www.scaler.com/topics/python/what-is-python/\n",
    "- Features of Python - https://www.scaler.com/topics/python/features-of-python/\n",
    "- What is Python Programming? - https://www.scaler.com/topics/python/what-is-python-programming/\n",
    "- Applications of Python - https://www.scaler.com/topics/python/applications-of-python/\n",
    "- Python Basic Syntax and First Program in Python - https://www.scaler.com/topics/python/python-syntax/\n",
    "- Install Python on Windows - https://www.scaler.com/topics/python/how-to-install-python-in-windows/\n",
    "- How to Install Python on MacOS? - https://www.scaler.com/topics/python/how-to-install-python-on-macos/\n",
    "- How to Install Python on Linux? - https://www.scaler.com/topics/python/install-python-on-linux/"
   ]
  },
  {
   "cell_type": "code",
   "execution_count": null,
   "metadata": {
    "id": "jycfEzx94kno"
   },
   "outputs": [],
   "source": []
  }
 ],
 "metadata": {
  "colab": {
   "provenance": []
  },
  "kernelspec": {
   "display_name": "Python 3 (ipykernel)",
   "language": "python",
   "name": "python3"
  },
  "language_info": {
   "codemirror_mode": {
    "name": "ipython",
    "version": 3
   },
   "file_extension": ".py",
   "mimetype": "text/x-python",
   "name": "python",
   "nbconvert_exporter": "python",
   "pygments_lexer": "ipython3",
   "version": "3.9.18"
  }
 },
 "nbformat": 4,
 "nbformat_minor": 1
}
